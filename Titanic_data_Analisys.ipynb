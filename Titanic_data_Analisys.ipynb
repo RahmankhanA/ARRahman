{
  "nbformat": 4,
  "nbformat_minor": 0,
  "metadata": {
    "colab": {
      "name": "Titanic_data_Analisys.ipynb",
      "provenance": [],
      "private_outputs": true,
      "collapsed_sections": [],
      "authorship_tag": "ABX9TyOfXPzhLtTAkX1EEP2B9tfU",
      "include_colab_link": true
    },
    "kernelspec": {
      "name": "python3",
      "display_name": "Python 3"
    }
  },
  "cells": [
    {
      "cell_type": "markdown",
      "metadata": {
        "id": "view-in-github",
        "colab_type": "text"
      },
      "source": [
        "<a href=\"https://colab.research.google.com/github/RahmankhanA/ARRahman/blob/master/Titanic_data_Analisys.ipynb\" target=\"_parent\"><img src=\"https://colab.research.google.com/assets/colab-badge.svg\" alt=\"Open In Colab\"/></a>"
      ]
    },
    {
      "cell_type": "markdown",
      "metadata": {
        "id": "63bZT096QxFv",
        "colab_type": "text"
      },
      "source": [
        "*Collacting Data *"
      ]
    },
    {
      "cell_type": "code",
      "metadata": {
        "id": "TG9jVU4SPW4W",
        "colab_type": "code",
        "colab": {}
      },
      "source": [
        "import numpy as np\n",
        "import pandas as pd\n",
        "import seaborn as sns\n",
        "import matplotlib.pyplot as plt"
      ],
      "execution_count": null,
      "outputs": []
    },
    {
      "cell_type": "code",
      "metadata": {
        "id": "cpvcxhWOP6ot",
        "colab_type": "code",
        "colab": {}
      },
      "source": [
        "titanic_data=pd.read_csv('datasets.csv')\n",
        "titanic_data.head(10)"
      ],
      "execution_count": null,
      "outputs": []
    },
    {
      "cell_type": "markdown",
      "metadata": {
        "id": "vlztU0KFQ5i9",
        "colab_type": "text"
      },
      "source": [
        "*Visualising Data*"
      ]
    },
    {
      "cell_type": "code",
      "metadata": {
        "id": "K0qLXwS_QXdF",
        "colab_type": "code",
        "colab": {}
      },
      "source": [
        "sns.countplot(x='Survived' , data=titanic_data)"
      ],
      "execution_count": null,
      "outputs": []
    },
    {
      "cell_type": "code",
      "metadata": {
        "id": "shlD4NcWSvnd",
        "colab_type": "code",
        "colab": {}
      },
      "source": [
        "sns.countplot(x='Survived' , hue='Sex', data=titanic_data)"
      ],
      "execution_count": null,
      "outputs": []
    },
    {
      "cell_type": "code",
      "metadata": {
        "id": "J691XACDTGAs",
        "colab_type": "code",
        "colab": {}
      },
      "source": [
        "sns.countplot(x='Survived' ,hue='Pclass', data=titanic_data)"
      ],
      "execution_count": null,
      "outputs": []
    },
    {
      "cell_type": "code",
      "metadata": {
        "id": "R8Mp5p_zTZz6",
        "colab_type": "code",
        "colab": {}
      },
      "source": [
        "titanic_data['Age'].plot.hist(bins=22)"
      ],
      "execution_count": null,
      "outputs": []
    },
    {
      "cell_type": "code",
      "metadata": {
        "id": "lGIUUkXrUZRp",
        "colab_type": "code",
        "colab": {}
      },
      "source": [
        "titanic_data['Fare'].plot.hist()"
      ],
      "execution_count": null,
      "outputs": []
    },
    {
      "cell_type": "code",
      "metadata": {
        "id": "9PbxG7JzUowK",
        "colab_type": "code",
        "colab": {}
      },
      "source": [
        "titanic_data.info()"
      ],
      "execution_count": null,
      "outputs": []
    },
    {
      "cell_type": "code",
      "metadata": {
        "id": "ebply4ZwV2KQ",
        "colab_type": "code",
        "colab": {}
      },
      "source": [
        "sns.countplot(x='Survived' , hue='Parch', data=titanic_data)"
      ],
      "execution_count": null,
      "outputs": []
    },
    {
      "cell_type": "code",
      "metadata": {
        "id": "_1rdCBPFWK6J",
        "colab_type": "code",
        "colab": {}
      },
      "source": [
        "titanic_data.isnull().sum()"
      ],
      "execution_count": null,
      "outputs": []
    },
    {
      "cell_type": "code",
      "metadata": {
        "id": "Wa4eEeIVWW-o",
        "colab_type": "code",
        "colab": {}
      },
      "source": [
        "sns.heatmap(titanic_data.isnull(), yticklabels=False, cmap='viridis')"
      ],
      "execution_count": null,
      "outputs": []
    },
    {
      "cell_type": "code",
      "metadata": {
        "id": "tVaDOCB6XKV7",
        "colab_type": "code",
        "colab": {}
      },
      "source": [
        "sns.violinplot(x='Pclass', y='Age', data=titanic_data)"
      ],
      "execution_count": null,
      "outputs": []
    },
    {
      "cell_type": "code",
      "metadata": {
        "id": "jH3BFxiNXuV4",
        "colab_type": "code",
        "colab": {}
      },
      "source": [
        "sns.swarmplot(x='Pclass', y='Age', data=titanic_data)"
      ],
      "execution_count": null,
      "outputs": []
    },
    {
      "cell_type": "code",
      "metadata": {
        "id": "4FJyvfNUX5JI",
        "colab_type": "code",
        "colab": {}
      },
      "source": [
        "titanic_data.drop(\"Cabin\",axis=1, inplace=True)"
      ],
      "execution_count": null,
      "outputs": []
    },
    {
      "cell_type": "code",
      "metadata": {
        "id": "J3te_aN8Yuyf",
        "colab_type": "code",
        "colab": {}
      },
      "source": [
        "titanic_data.head()"
      ],
      "execution_count": null,
      "outputs": []
    },
    {
      "cell_type": "code",
      "metadata": {
        "id": "A41fhPS9ZO6g",
        "colab_type": "code",
        "colab": {}
      },
      "source": [
        "titanic_data.dropna(inplace=True)"
      ],
      "execution_count": null,
      "outputs": []
    },
    {
      "cell_type": "code",
      "metadata": {
        "id": "jOqHMtg2ZAAI",
        "colab_type": "code",
        "colab": {}
      },
      "source": [
        "sns.heatmap(titanic_data.isnull(), yticklabels=False, cmap='viridis')"
      ],
      "execution_count": null,
      "outputs": []
    },
    {
      "cell_type": "markdown",
      "metadata": {
        "id": "rlTSQxzNcCJh",
        "colab_type": "text"
      },
      "source": [
        "*Data Wrangling*"
      ]
    },
    {
      "cell_type": "code",
      "metadata": {
        "id": "in8GlhtuZL0X",
        "colab_type": "code",
        "colab": {}
      },
      "source": [
        "Sex=pd.get_dummies(titanic_data['Sex'],drop_first=True)"
      ],
      "execution_count": null,
      "outputs": []
    },
    {
      "cell_type": "code",
      "metadata": {
        "id": "Fy_pkdyAaOl_",
        "colab_type": "code",
        "colab": {}
      },
      "source": [
        "embark=pd.get_dummies(titanic_data['Embarked'],drop_first=True)\n",
        "embark.head()"
      ],
      "execution_count": null,
      "outputs": []
    },
    {
      "cell_type": "code",
      "metadata": {
        "id": "nSO5bBByaw9W",
        "colab_type": "code",
        "colab": {}
      },
      "source": [
        "Pcl=pd.get_dummies(titanic_data['Pclass'],drop_first=True)"
      ],
      "execution_count": null,
      "outputs": []
    },
    {
      "cell_type": "code",
      "metadata": {
        "id": "CrPB1yO1bA2m",
        "colab_type": "code",
        "colab": {}
      },
      "source": [
        "titanic_data=pd.concat([titanic_data,Sex, embark,Pcl],axis=1)"
      ],
      "execution_count": null,
      "outputs": []
    },
    {
      "cell_type": "code",
      "metadata": {
        "id": "nK4QQTpbbW7G",
        "colab_type": "code",
        "colab": {}
      },
      "source": [
        "titanic_data.drop(['Sex','Embarked', 'Pclass','PassengerId','Name','Ticket'],axis=1,inplace=True)"
      ],
      "execution_count": null,
      "outputs": []
    },
    {
      "cell_type": "code",
      "metadata": {
        "id": "j4cypa7xb7km",
        "colab_type": "code",
        "colab": {}
      },
      "source": [
        "titanic_data.head()"
      ],
      "execution_count": null,
      "outputs": []
    },
    {
      "cell_type": "markdown",
      "metadata": {
        "id": "mN0EIpCvQb2H",
        "colab_type": "text"
      },
      "source": [
        "*Tran Data*"
      ]
    },
    {
      "cell_type": "code",
      "metadata": {
        "id": "PIDiTJwMdbZt",
        "colab_type": "code",
        "colab": {}
      },
      "source": [
        "X=titanic_data.drop(\"Survived\", axis=1)\n",
        "y=titanic_data['Survived']"
      ],
      "execution_count": null,
      "outputs": []
    },
    {
      "cell_type": "code",
      "metadata": {
        "id": "J-DuEyjtcSxv",
        "colab_type": "code",
        "colab": {}
      },
      "source": [
        "from sklearn.model_selection import train_test_split\n",
        "from sklearn.linear_model import LogisticRegression\n",
        "X_train, X_test, y_train, y_test = train_test_split(X, y, test_size=0.33, random_state=42)\n",
        "log_mod= LogisticRegression()\n",
        "log_mod.fit(X_train, y_train)\n"
      ],
      "execution_count": null,
      "outputs": []
    },
    {
      "cell_type": "markdown",
      "metadata": {
        "id": "75SPSpkUzWtP",
        "colab_type": "text"
      },
      "source": [
        "*Testing Accuracy*"
      ]
    },
    {
      "cell_type": "code",
      "metadata": {
        "id": "lTGMs9zPxlhd",
        "colab_type": "code",
        "colab": {}
      },
      "source": [
        "prediction=log_mod.predict(X_test)\n"
      ],
      "execution_count": null,
      "outputs": []
    },
    {
      "cell_type": "code",
      "metadata": {
        "id": "0i91uFMcy_nP",
        "colab_type": "code",
        "colab": {}
      },
      "source": [
        "from sklearn.metrics import classification_report"
      ],
      "execution_count": null,
      "outputs": []
    },
    {
      "cell_type": "code",
      "metadata": {
        "id": "TdrJPNz3zvNc",
        "colab_type": "code",
        "colab": {}
      },
      "source": [
        "classification_report(y_test , prediction)"
      ],
      "execution_count": null,
      "outputs": []
    },
    {
      "cell_type": "code",
      "metadata": {
        "id": "WYL9Kbpz0KAP",
        "colab_type": "code",
        "colab": {}
      },
      "source": [
        "from sklearn.metrics import confusion_matrix"
      ],
      "execution_count": null,
      "outputs": []
    },
    {
      "cell_type": "code",
      "metadata": {
        "id": "mmsYy1ds0gEc",
        "colab_type": "code",
        "colab": {}
      },
      "source": [
        "confusion_matrix(y_test , prediction)"
      ],
      "execution_count": null,
      "outputs": []
    },
    {
      "cell_type": "code",
      "metadata": {
        "id": "L1W0apVq0rmG",
        "colab_type": "code",
        "colab": {}
      },
      "source": [
        "from sklearn.metrics import accuracy_score\n",
        "accuracy_score(y_test , prediction)"
      ],
      "execution_count": null,
      "outputs": []
    },
    {
      "cell_type": "code",
      "metadata": {
        "id": "YVuinZN7p7-X",
        "colab_type": "code",
        "colab": {}
      },
      "source": [
        ""
      ],
      "execution_count": null,
      "outputs": []
    }
  ]
}